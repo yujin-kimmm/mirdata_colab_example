{
  "nbformat": 4,
  "nbformat_minor": 0,
  "metadata": {
    "colab": {
      "provenance": [],
      "authorship_tag": "ABX9TyNtUPm/0fodsEILE4ckyRbc",
      "include_colab_link": true
    },
    "kernelspec": {
      "name": "python3",
      "display_name": "Python 3"
    },
    "language_info": {
      "name": "python"
    }
  },
  "cells": [
    {
      "cell_type": "markdown",
      "metadata": {
        "id": "view-in-github",
        "colab_type": "text"
      },
      "source": [
        "<a href=\"https://colab.research.google.com/github/yujin-kimmm/mirdata_colab_example/blob/main/mirdata_colab_example.ipynb\" target=\"_parent\"><img src=\"https://colab.research.google.com/assets/colab-badge.svg\" alt=\"Open In Colab\"/></a>"
      ]
    },
    {
      "cell_type": "markdown",
      "metadata": {
        "id": "12266682"
      },
      "source": [
        "# **Welcome to the mirdata Colab Example!**\n",
        "\n",
        "This notebook provides a hands-on introduction to using the `mirdata` library in Google Colab. `mirdata` is a Python library designed to make it easy to load and work with common music information retrieval (MIR) datasets.\n",
        "\n",
        "In this notebook, you will learn how to:\n",
        "\n",
        "* Install `mirdata`\n",
        "* Load a dataset\n",
        "* Download and store the dataset\n",
        "* Validate the dataset\n",
        "\n",
        "Let's get started!"
      ]
    },
    {
      "cell_type": "markdown",
      "source": [
        "## Getting Ready"
      ],
      "metadata": {
        "id": "bNte2R3YNTZL"
      }
    },
    {
      "cell_type": "markdown",
      "source": [
        "First, install `mirdata` package"
      ],
      "metadata": {
        "id": "wIEV5CXJKX2E"
      }
    },
    {
      "cell_type": "code",
      "source": [
        "!pip install mirdata"
      ],
      "metadata": {
        "colab": {
          "base_uri": "https://localhost:8080/"
        },
        "collapsed": true,
        "id": "gfH833BIKTUl",
        "outputId": "c5e357ec-ddab-44e3-d2d3-f3314e7f2419"
      },
      "execution_count": 1,
      "outputs": [
        {
          "output_type": "stream",
          "name": "stdout",
          "text": [
            "Collecting git+https://github.com/mir-dataset-loaders/mirdata.git\n",
            "  Cloning https://github.com/mir-dataset-loaders/mirdata.git to /tmp/pip-req-build-714ct_qh\n",
            "  Running command git clone --filter=blob:none --quiet https://github.com/mir-dataset-loaders/mirdata.git /tmp/pip-req-build-714ct_qh\n",
            "  Resolved https://github.com/mir-dataset-loaders/mirdata.git to commit d3a92876cfa85c4ecd92348f44b393c345be9b2d\n",
            "  Installing build dependencies ... \u001b[?25l\u001b[?25hdone\n",
            "  Getting requirements to build wheel ... \u001b[?25l\u001b[?25hdone\n",
            "  Preparing metadata (pyproject.toml) ... \u001b[?25l\u001b[?25hdone\n",
            "Requirement already satisfied: chardet>=5.0.0 in /usr/local/lib/python3.11/dist-packages (from mirdata==1.0.0rc1) (5.2.0)\n",
            "Collecting Deprecated>=1.2.14 (from mirdata==1.0.0rc1)\n",
            "  Downloading Deprecated-1.2.18-py2.py3-none-any.whl.metadata (5.7 kB)\n",
            "Requirement already satisfied: h5py>=3.7.0 in /usr/local/lib/python3.11/dist-packages (from mirdata==1.0.0rc1) (3.14.0)\n",
            "Requirement already satisfied: librosa>=0.10.1 in /usr/local/lib/python3.11/dist-packages (from mirdata==1.0.0rc1) (0.11.0)\n",
            "Requirement already satisfied: numpy>=1.21.6 in /usr/local/lib/python3.11/dist-packages (from mirdata==1.0.0rc1) (2.0.2)\n",
            "Requirement already satisfied: pandas>=1.3.5 in /usr/local/lib/python3.11/dist-packages (from mirdata==1.0.0rc1) (2.2.2)\n",
            "Collecting pretty_midi>=0.2.10 (from mirdata==1.0.0rc1)\n",
            "  Downloading pretty_midi-0.2.10.tar.gz (5.6 MB)\n",
            "\u001b[2K     \u001b[90m━━━━━━━━━━━━━━━━━━━━━━━━━━━━━━━━━━━━━━━━\u001b[0m \u001b[32m5.6/5.6 MB\u001b[0m \u001b[31m45.0 MB/s\u001b[0m eta \u001b[36m0:00:00\u001b[0m\n",
            "\u001b[?25h  Preparing metadata (setup.py) ... \u001b[?25l\u001b[?25hdone\n",
            "Requirement already satisfied: pyyaml>=6.0 in /usr/local/lib/python3.11/dist-packages (from mirdata==1.0.0rc1) (6.0.2)\n",
            "Requirement already satisfied: openpyxl>=3.0.10 in /usr/local/lib/python3.11/dist-packages (from mirdata==1.0.0rc1) (3.1.5)\n",
            "Requirement already satisfied: scipy>=1.7.3 in /usr/local/lib/python3.11/dist-packages (from mirdata==1.0.0rc1) (1.16.1)\n",
            "Requirement already satisfied: tqdm>=4.66.1 in /usr/local/lib/python3.11/dist-packages (from mirdata==1.0.0rc1) (4.67.1)\n",
            "Requirement already satisfied: smart_open>=5.0.0 in /usr/local/lib/python3.11/dist-packages (from smart_open[all]>=5.0.0->mirdata==1.0.0rc1) (7.3.0.post1)\n",
            "Requirement already satisfied: wrapt<2,>=1.10 in /usr/local/lib/python3.11/dist-packages (from Deprecated>=1.2.14->mirdata==1.0.0rc1) (1.17.2)\n",
            "Requirement already satisfied: audioread>=2.1.9 in /usr/local/lib/python3.11/dist-packages (from librosa>=0.10.1->mirdata==1.0.0rc1) (3.0.1)\n",
            "Requirement already satisfied: numba>=0.51.0 in /usr/local/lib/python3.11/dist-packages (from librosa>=0.10.1->mirdata==1.0.0rc1) (0.60.0)\n",
            "Requirement already satisfied: scikit-learn>=1.1.0 in /usr/local/lib/python3.11/dist-packages (from librosa>=0.10.1->mirdata==1.0.0rc1) (1.6.1)\n",
            "Requirement already satisfied: joblib>=1.0 in /usr/local/lib/python3.11/dist-packages (from librosa>=0.10.1->mirdata==1.0.0rc1) (1.5.1)\n",
            "Requirement already satisfied: decorator>=4.3.0 in /usr/local/lib/python3.11/dist-packages (from librosa>=0.10.1->mirdata==1.0.0rc1) (4.4.2)\n",
            "Requirement already satisfied: soundfile>=0.12.1 in /usr/local/lib/python3.11/dist-packages (from librosa>=0.10.1->mirdata==1.0.0rc1) (0.13.1)\n",
            "Requirement already satisfied: pooch>=1.1 in /usr/local/lib/python3.11/dist-packages (from librosa>=0.10.1->mirdata==1.0.0rc1) (1.8.2)\n",
            "Requirement already satisfied: soxr>=0.3.2 in /usr/local/lib/python3.11/dist-packages (from librosa>=0.10.1->mirdata==1.0.0rc1) (0.5.0.post1)\n",
            "Requirement already satisfied: typing_extensions>=4.1.1 in /usr/local/lib/python3.11/dist-packages (from librosa>=0.10.1->mirdata==1.0.0rc1) (4.14.1)\n",
            "Requirement already satisfied: lazy_loader>=0.1 in /usr/local/lib/python3.11/dist-packages (from librosa>=0.10.1->mirdata==1.0.0rc1) (0.4)\n",
            "Requirement already satisfied: msgpack>=1.0 in /usr/local/lib/python3.11/dist-packages (from librosa>=0.10.1->mirdata==1.0.0rc1) (1.1.1)\n",
            "Requirement already satisfied: et-xmlfile in /usr/local/lib/python3.11/dist-packages (from openpyxl>=3.0.10->mirdata==1.0.0rc1) (2.0.0)\n",
            "Requirement already satisfied: python-dateutil>=2.8.2 in /usr/local/lib/python3.11/dist-packages (from pandas>=1.3.5->mirdata==1.0.0rc1) (2.9.0.post0)\n",
            "Requirement already satisfied: pytz>=2020.1 in /usr/local/lib/python3.11/dist-packages (from pandas>=1.3.5->mirdata==1.0.0rc1) (2025.2)\n",
            "Requirement already satisfied: tzdata>=2022.7 in /usr/local/lib/python3.11/dist-packages (from pandas>=1.3.5->mirdata==1.0.0rc1) (2025.2)\n",
            "Collecting mido>=1.1.16 (from pretty_midi>=0.2.10->mirdata==1.0.0rc1)\n",
            "  Downloading mido-1.3.3-py3-none-any.whl.metadata (6.4 kB)\n",
            "Requirement already satisfied: six in /usr/local/lib/python3.11/dist-packages (from pretty_midi>=0.2.10->mirdata==1.0.0rc1) (1.17.0)\n",
            "Requirement already satisfied: packaging in /usr/local/lib/python3.11/dist-packages (from lazy_loader>=0.1->librosa>=0.10.1->mirdata==1.0.0rc1) (25.0)\n",
            "Requirement already satisfied: llvmlite<0.44,>=0.43.0dev0 in /usr/local/lib/python3.11/dist-packages (from numba>=0.51.0->librosa>=0.10.1->mirdata==1.0.0rc1) (0.43.0)\n",
            "Requirement already satisfied: platformdirs>=2.5.0 in /usr/local/lib/python3.11/dist-packages (from pooch>=1.1->librosa>=0.10.1->mirdata==1.0.0rc1) (4.3.8)\n",
            "Requirement already satisfied: requests>=2.19.0 in /usr/local/lib/python3.11/dist-packages (from pooch>=1.1->librosa>=0.10.1->mirdata==1.0.0rc1) (2.32.3)\n",
            "Requirement already satisfied: threadpoolctl>=3.1.0 in /usr/local/lib/python3.11/dist-packages (from scikit-learn>=1.1.0->librosa>=0.10.1->mirdata==1.0.0rc1) (3.6.0)\n",
            "Requirement already satisfied: cffi>=1.0 in /usr/local/lib/python3.11/dist-packages (from soundfile>=0.12.1->librosa>=0.10.1->mirdata==1.0.0rc1) (1.17.1)\n",
            "Collecting boto3 (from smart_open>=5.0.0->smart_open[all]>=5.0.0->mirdata==1.0.0rc1)\n",
            "  Downloading boto3-1.40.9-py3-none-any.whl.metadata (6.7 kB)\n",
            "Requirement already satisfied: google-cloud-storage>=2.6.0 in /usr/local/lib/python3.11/dist-packages (from smart_open>=5.0.0->smart_open[all]>=5.0.0->mirdata==1.0.0rc1) (2.19.0)\n",
            "Collecting azure-storage-blob (from smart_open>=5.0.0->smart_open[all]>=5.0.0->mirdata==1.0.0rc1)\n",
            "  Downloading azure_storage_blob-12.26.0-py3-none-any.whl.metadata (26 kB)\n",
            "Collecting azure-common (from smart_open>=5.0.0->smart_open[all]>=5.0.0->mirdata==1.0.0rc1)\n",
            "  Downloading azure_common-1.1.28-py2.py3-none-any.whl.metadata (5.0 kB)\n",
            "Collecting azure-core (from smart_open>=5.0.0->smart_open[all]>=5.0.0->mirdata==1.0.0rc1)\n",
            "  Downloading azure_core-1.35.0-py3-none-any.whl.metadata (44 kB)\n",
            "\u001b[2K     \u001b[90m━━━━━━━━━━━━━━━━━━━━━━━━━━━━━━━━━━━━━━━━\u001b[0m \u001b[32m44.4/44.4 kB\u001b[0m \u001b[31m3.1 MB/s\u001b[0m eta \u001b[36m0:00:00\u001b[0m\n",
            "\u001b[?25hCollecting paramiko (from smart_open>=5.0.0->smart_open[all]>=5.0.0->mirdata==1.0.0rc1)\n",
            "  Downloading paramiko-4.0.0-py3-none-any.whl.metadata (3.9 kB)\n",
            "Requirement already satisfied: zstandard in /usr/local/lib/python3.11/dist-packages (from smart_open>=5.0.0->smart_open[all]>=5.0.0->mirdata==1.0.0rc1) (0.23.0)\n",
            "Requirement already satisfied: pycparser in /usr/local/lib/python3.11/dist-packages (from cffi>=1.0->soundfile>=0.12.1->librosa>=0.10.1->mirdata==1.0.0rc1) (2.22)\n",
            "Requirement already satisfied: google-auth<3.0dev,>=2.26.1 in /usr/local/lib/python3.11/dist-packages (from google-cloud-storage>=2.6.0->smart_open>=5.0.0->smart_open[all]>=5.0.0->mirdata==1.0.0rc1) (2.38.0)\n",
            "Requirement already satisfied: google-api-core<3.0.0dev,>=2.15.0 in /usr/local/lib/python3.11/dist-packages (from google-cloud-storage>=2.6.0->smart_open>=5.0.0->smart_open[all]>=5.0.0->mirdata==1.0.0rc1) (2.25.1)\n",
            "Requirement already satisfied: google-cloud-core<3.0dev,>=2.3.0 in /usr/local/lib/python3.11/dist-packages (from google-cloud-storage>=2.6.0->smart_open>=5.0.0->smart_open[all]>=5.0.0->mirdata==1.0.0rc1) (2.4.3)\n",
            "Requirement already satisfied: google-resumable-media>=2.7.2 in /usr/local/lib/python3.11/dist-packages (from google-cloud-storage>=2.6.0->smart_open>=5.0.0->smart_open[all]>=5.0.0->mirdata==1.0.0rc1) (2.7.2)\n",
            "Requirement already satisfied: google-crc32c<2.0dev,>=1.0 in /usr/local/lib/python3.11/dist-packages (from google-cloud-storage>=2.6.0->smart_open>=5.0.0->smart_open[all]>=5.0.0->mirdata==1.0.0rc1) (1.7.1)\n",
            "Requirement already satisfied: charset-normalizer<4,>=2 in /usr/local/lib/python3.11/dist-packages (from requests>=2.19.0->pooch>=1.1->librosa>=0.10.1->mirdata==1.0.0rc1) (3.4.3)\n",
            "Requirement already satisfied: idna<4,>=2.5 in /usr/local/lib/python3.11/dist-packages (from requests>=2.19.0->pooch>=1.1->librosa>=0.10.1->mirdata==1.0.0rc1) (3.10)\n",
            "Requirement already satisfied: urllib3<3,>=1.21.1 in /usr/local/lib/python3.11/dist-packages (from requests>=2.19.0->pooch>=1.1->librosa>=0.10.1->mirdata==1.0.0rc1) (2.5.0)\n",
            "Requirement already satisfied: certifi>=2017.4.17 in /usr/local/lib/python3.11/dist-packages (from requests>=2.19.0->pooch>=1.1->librosa>=0.10.1->mirdata==1.0.0rc1) (2025.8.3)\n",
            "Requirement already satisfied: cryptography>=2.1.4 in /usr/local/lib/python3.11/dist-packages (from azure-storage-blob->smart_open>=5.0.0->smart_open[all]>=5.0.0->mirdata==1.0.0rc1) (43.0.3)\n",
            "Collecting isodate>=0.6.1 (from azure-storage-blob->smart_open>=5.0.0->smart_open[all]>=5.0.0->mirdata==1.0.0rc1)\n",
            "  Downloading isodate-0.7.2-py3-none-any.whl.metadata (11 kB)\n",
            "Collecting botocore<1.41.0,>=1.40.9 (from boto3->smart_open>=5.0.0->smart_open[all]>=5.0.0->mirdata==1.0.0rc1)\n",
            "  Downloading botocore-1.40.9-py3-none-any.whl.metadata (5.7 kB)\n",
            "Collecting jmespath<2.0.0,>=0.7.1 (from boto3->smart_open>=5.0.0->smart_open[all]>=5.0.0->mirdata==1.0.0rc1)\n",
            "  Downloading jmespath-1.0.1-py3-none-any.whl.metadata (7.6 kB)\n",
            "Collecting s3transfer<0.14.0,>=0.13.0 (from boto3->smart_open>=5.0.0->smart_open[all]>=5.0.0->mirdata==1.0.0rc1)\n",
            "  Downloading s3transfer-0.13.1-py3-none-any.whl.metadata (1.7 kB)\n",
            "Collecting bcrypt>=3.2 (from paramiko->smart_open>=5.0.0->smart_open[all]>=5.0.0->mirdata==1.0.0rc1)\n",
            "  Downloading bcrypt-4.3.0-cp39-abi3-manylinux_2_34_x86_64.whl.metadata (10 kB)\n",
            "Collecting invoke>=2.0 (from paramiko->smart_open>=5.0.0->smart_open[all]>=5.0.0->mirdata==1.0.0rc1)\n",
            "  Downloading invoke-2.2.0-py3-none-any.whl.metadata (3.3 kB)\n",
            "Collecting pynacl>=1.5 (from paramiko->smart_open>=5.0.0->smart_open[all]>=5.0.0->mirdata==1.0.0rc1)\n",
            "  Downloading PyNaCl-1.5.0-cp36-abi3-manylinux_2_17_x86_64.manylinux2014_x86_64.manylinux_2_24_x86_64.whl.metadata (8.6 kB)\n",
            "Requirement already satisfied: googleapis-common-protos<2.0.0,>=1.56.2 in /usr/local/lib/python3.11/dist-packages (from google-api-core<3.0.0dev,>=2.15.0->google-cloud-storage>=2.6.0->smart_open>=5.0.0->smart_open[all]>=5.0.0->mirdata==1.0.0rc1) (1.70.0)\n",
            "Requirement already satisfied: protobuf!=3.20.0,!=3.20.1,!=4.21.0,!=4.21.1,!=4.21.2,!=4.21.3,!=4.21.4,!=4.21.5,<7.0.0,>=3.19.5 in /usr/local/lib/python3.11/dist-packages (from google-api-core<3.0.0dev,>=2.15.0->google-cloud-storage>=2.6.0->smart_open>=5.0.0->smart_open[all]>=5.0.0->mirdata==1.0.0rc1) (5.29.5)\n",
            "Requirement already satisfied: proto-plus<2.0.0,>=1.22.3 in /usr/local/lib/python3.11/dist-packages (from google-api-core<3.0.0dev,>=2.15.0->google-cloud-storage>=2.6.0->smart_open>=5.0.0->smart_open[all]>=5.0.0->mirdata==1.0.0rc1) (1.26.1)\n",
            "Requirement already satisfied: cachetools<6.0,>=2.0.0 in /usr/local/lib/python3.11/dist-packages (from google-auth<3.0dev,>=2.26.1->google-cloud-storage>=2.6.0->smart_open>=5.0.0->smart_open[all]>=5.0.0->mirdata==1.0.0rc1) (5.5.2)\n",
            "Requirement already satisfied: pyasn1-modules>=0.2.1 in /usr/local/lib/python3.11/dist-packages (from google-auth<3.0dev,>=2.26.1->google-cloud-storage>=2.6.0->smart_open>=5.0.0->smart_open[all]>=5.0.0->mirdata==1.0.0rc1) (0.4.2)\n",
            "Requirement already satisfied: rsa<5,>=3.1.4 in /usr/local/lib/python3.11/dist-packages (from google-auth<3.0dev,>=2.26.1->google-cloud-storage>=2.6.0->smart_open>=5.0.0->smart_open[all]>=5.0.0->mirdata==1.0.0rc1) (4.9.1)\n",
            "Requirement already satisfied: pyasn1<0.7.0,>=0.6.1 in /usr/local/lib/python3.11/dist-packages (from pyasn1-modules>=0.2.1->google-auth<3.0dev,>=2.26.1->google-cloud-storage>=2.6.0->smart_open>=5.0.0->smart_open[all]>=5.0.0->mirdata==1.0.0rc1) (0.6.1)\n",
            "Downloading Deprecated-1.2.18-py2.py3-none-any.whl (10.0 kB)\n",
            "Downloading mido-1.3.3-py3-none-any.whl (54 kB)\n",
            "\u001b[2K   \u001b[90m━━━━━━━━━━━━━━━━━━━━━━━━━━━━━━━━━━━━━━━━\u001b[0m \u001b[32m54.6/54.6 kB\u001b[0m \u001b[31m3.3 MB/s\u001b[0m eta \u001b[36m0:00:00\u001b[0m\n",
            "\u001b[?25hDownloading azure_common-1.1.28-py2.py3-none-any.whl (14 kB)\n",
            "Downloading azure_core-1.35.0-py3-none-any.whl (210 kB)\n",
            "\u001b[2K   \u001b[90m━━━━━━━━━━━━━━━━━━━━━━━━━━━━━━━━━━━━━━━━\u001b[0m \u001b[32m210.7/210.7 kB\u001b[0m \u001b[31m14.8 MB/s\u001b[0m eta \u001b[36m0:00:00\u001b[0m\n",
            "\u001b[?25hDownloading azure_storage_blob-12.26.0-py3-none-any.whl (412 kB)\n",
            "\u001b[2K   \u001b[90m━━━━━━━━━━━━━━━━━━━━━━━━━━━━━━━━━━━━━━━━\u001b[0m \u001b[32m412.9/412.9 kB\u001b[0m \u001b[31m25.7 MB/s\u001b[0m eta \u001b[36m0:00:00\u001b[0m\n",
            "\u001b[?25hDownloading boto3-1.40.9-py3-none-any.whl (140 kB)\n",
            "\u001b[2K   \u001b[90m━━━━━━━━━━━━━━━━━━━━━━━━━━━━━━━━━━━━━━━━\u001b[0m \u001b[32m140.1/140.1 kB\u001b[0m \u001b[31m9.6 MB/s\u001b[0m eta \u001b[36m0:00:00\u001b[0m\n",
            "\u001b[?25hDownloading paramiko-4.0.0-py3-none-any.whl (223 kB)\n",
            "\u001b[2K   \u001b[90m━━━━━━━━━━━━━━━━━━━━━━━━━━━━━━━━━━━━━━━━\u001b[0m \u001b[32m223.9/223.9 kB\u001b[0m \u001b[31m16.1 MB/s\u001b[0m eta \u001b[36m0:00:00\u001b[0m\n",
            "\u001b[?25hDownloading bcrypt-4.3.0-cp39-abi3-manylinux_2_34_x86_64.whl (284 kB)\n",
            "\u001b[2K   \u001b[90m━━━━━━━━━━━━━━━━━━━━━━━━━━━━━━━━━━━━━━━━\u001b[0m \u001b[32m284.2/284.2 kB\u001b[0m \u001b[31m21.2 MB/s\u001b[0m eta \u001b[36m0:00:00\u001b[0m\n",
            "\u001b[?25hDownloading botocore-1.40.9-py3-none-any.whl (14.0 MB)\n",
            "\u001b[2K   \u001b[90m━━━━━━━━━━━━━━━━━━━━━━━━━━━━━━━━━━━━━━━━\u001b[0m \u001b[32m14.0/14.0 MB\u001b[0m \u001b[31m91.4 MB/s\u001b[0m eta \u001b[36m0:00:00\u001b[0m\n",
            "\u001b[?25hDownloading invoke-2.2.0-py3-none-any.whl (160 kB)\n",
            "\u001b[2K   \u001b[90m━━━━━━━━━━━━━━━━━━━━━━━━━━━━━━━━━━━━━━━━\u001b[0m \u001b[32m160.3/160.3 kB\u001b[0m \u001b[31m11.7 MB/s\u001b[0m eta \u001b[36m0:00:00\u001b[0m\n",
            "\u001b[?25hDownloading isodate-0.7.2-py3-none-any.whl (22 kB)\n",
            "Downloading jmespath-1.0.1-py3-none-any.whl (20 kB)\n",
            "Downloading PyNaCl-1.5.0-cp36-abi3-manylinux_2_17_x86_64.manylinux2014_x86_64.manylinux_2_24_x86_64.whl (856 kB)\n",
            "\u001b[2K   \u001b[90m━━━━━━━━━━━━━━━━━━━━━━━━━━━━━━━━━━━━━━━━\u001b[0m \u001b[32m856.7/856.7 kB\u001b[0m \u001b[31m43.6 MB/s\u001b[0m eta \u001b[36m0:00:00\u001b[0m\n",
            "\u001b[?25hDownloading s3transfer-0.13.1-py3-none-any.whl (85 kB)\n",
            "\u001b[2K   \u001b[90m━━━━━━━━━━━━━━━━━━━━━━━━━━━━━━━━━━━━━━━━\u001b[0m \u001b[32m85.3/85.3 kB\u001b[0m \u001b[31m6.9 MB/s\u001b[0m eta \u001b[36m0:00:00\u001b[0m\n",
            "\u001b[?25hBuilding wheels for collected packages: mirdata, pretty_midi\n",
            "  Building wheel for mirdata (pyproject.toml) ... \u001b[?25l\u001b[?25hdone\n",
            "  Created wheel for mirdata: filename=mirdata-1.0.0rc1-py3-none-any.whl size=257993 sha256=68c03bb1f6ff35a0cc463dcbb659d9f5f9e0eeab5b06cc35c0dff4cdda47d905\n",
            "  Stored in directory: /tmp/pip-ephem-wheel-cache-hrs56s4k/wheels/4d/7d/93/4087fbd6367131d3e23f11cea9624759707b3c765980cb06ef\n",
            "  Building wheel for pretty_midi (setup.py) ... \u001b[?25l\u001b[?25hdone\n",
            "  Created wheel for pretty_midi: filename=pretty_midi-0.2.10-py3-none-any.whl size=5592286 sha256=2f65286dcc87cd90b5e9bfdd385464685e9e9ee378b8f96f025c21ef4eee6493\n",
            "  Stored in directory: /root/.cache/pip/wheels/e6/95/ac/15ceaeb2823b04d8e638fd1495357adb8d26c00ccac9d7782e\n",
            "Successfully built mirdata pretty_midi\n",
            "Installing collected packages: azure-common, mido, jmespath, isodate, invoke, Deprecated, bcrypt, pynacl, pretty_midi, botocore, azure-core, s3transfer, paramiko, azure-storage-blob, boto3, mirdata\n",
            "Successfully installed Deprecated-1.2.18 azure-common-1.1.28 azure-core-1.35.0 azure-storage-blob-12.26.0 bcrypt-4.3.0 boto3-1.40.9 botocore-1.40.9 invoke-2.2.0 isodate-0.7.2 jmespath-1.0.1 mido-1.3.3 mirdata-1.0.0rc1 paramiko-4.0.0 pretty_midi-0.2.10 pynacl-1.5.0 s3transfer-0.13.1\n"
          ]
        }
      ]
    },
    {
      "cell_type": "markdown",
      "source": [
        "Next, import the `mirdata` package"
      ],
      "metadata": {
        "id": "3N1FpBi6NYWh"
      }
    },
    {
      "cell_type": "code",
      "source": [
        "import mirdata"
      ],
      "metadata": {
        "id": "MHj38awBKTZJ"
      },
      "execution_count": 2,
      "outputs": []
    },
    {
      "cell_type": "markdown",
      "source": [
        "To check all available datasets in `mirdata`, you can print the list of the datasets"
      ],
      "metadata": {
        "id": "f1Old7XQNcHr"
      }
    },
    {
      "cell_type": "code",
      "source": [
        "print(mirdata.list_datasets())"
      ],
      "metadata": {
        "colab": {
          "base_uri": "https://localhost:8080/"
        },
        "id": "mzlfhZUYKxd-",
        "outputId": "f75e6048-f4bd-46cc-abdd-7a912ce29553"
      },
      "execution_count": 3,
      "outputs": [
        {
          "output_type": "stream",
          "name": "stdout",
          "text": [
            "['acousticbrainz_genre', 'baf', 'ballroom', 'beatles', 'beatport_key', 'billboard', 'brid', 'candombe', 'cante100', 'cipi', 'compmusic_carnatic_rhythm', 'compmusic_carnatic_varnam', 'compmusic_hindustani_rhythm', 'compmusic_indian_tonic', 'compmusic_jingju_acappella', 'compmusic_otmm_makam', 'compmusic_raga', 'cuidado', 'da_tacos', 'dagstuhl_choirset', 'dali', 'egfxset', 'filosax', 'four_way_tabla', 'freesound_one_shot_percussive_sounds', 'giantsteps_key', 'giantsteps_tempo', 'good_sounds', 'groove_midi', 'gtzan_genre', 'guitarset', 'hainsworth', 'haydn_op20', 'idmt_smt_audio_effects', 'ikala', 'irmas', 'jtd', 'maestro', 'mdb_stem_synth', 'medley_solos_db', 'medleydb_melody', 'medleydb_pitch', 'mridangam_stroke', 'mtg_jamendo_autotagging_moodtheme', 'openmic2018', 'orchset', 'phenicx_anechoic', 'queen', 'rwc_classical', 'rwc_jazz', 'rwc_popular', 'salami', 'saraga_carnatic', 'saraga_hindustani', 'scms', 'simac', 'slakh', 'tinysol', 'tonality_classicaldb', 'tonas', 'vocadito']\n"
          ]
        }
      ]
    },
    {
      "cell_type": "markdown",
      "source": [
        "## Initialize a dataset\n",
        "\n",
        "To use a loader in `mirdata`, you should first initialize it. For this example, we will use `orchset` as an exmaple."
      ],
      "metadata": {
        "id": "wSD39xG4N3fw"
      }
    },
    {
      "cell_type": "code",
      "source": [
        "dataset = mirdata.initialize('orchset')"
      ],
      "metadata": {
        "id": "FnS-TwjhL762"
      },
      "execution_count": 4,
      "outputs": []
    },
    {
      "cell_type": "markdown",
      "source": [
        "### Dataset versions\n",
        "\n",
        "Mirdata supports working with multiple dataset versions. To see all available versions of a specific dataset, run `mirdata.list_dataset_versions('orchset')`. Use version parameter if you wish to use a version other than the default one."
      ],
      "metadata": {
        "id": "oEKUvQ3ydtJ1"
      }
    },
    {
      "cell_type": "code",
      "source": [
        "# if you are willing to use a default version of the dataset, please comment out or pass this cell.\n",
        "\n",
        "# To see all available versions of a specific dataset:\n",
        "mirdata.list_dataset_versions('orchset')\n",
        "\n",
        "# Use 'version' parameter if you wish to use a version other than the default one.\n",
        "dataset = mirdata.initialize('orchset', data_home='/choose/where/data/live', version=\"1.0\") # replace the directory to your directory."
      ],
      "metadata": {
        "id": "_0IZI7b9dsw7"
      },
      "execution_count": 10,
      "outputs": []
    },
    {
      "cell_type": "markdown",
      "source": [
        "## Download the dataset"
      ],
      "metadata": {
        "id": "hehw8OAtPoeJ"
      }
    },
    {
      "cell_type": "markdown",
      "source": [
        "`mirdata` datasets are downloaded to a default directory ``/root/sound_datasets/<Dataset_Name>`` in Colab. This directory is temporary and will be reset every time you restart your Google Colab Session."
      ],
      "metadata": {
        "id": "luY-_716Q7zo"
      }
    },
    {
      "cell_type": "code",
      "source": [
        "dataset.download()"
      ],
      "metadata": {
        "colab": {
          "base_uri": "https://localhost:8080/"
        },
        "collapsed": true,
        "id": "YiRy17i_MNN4",
        "outputId": "d738519b-fc96-4d33-dad9-82af065b60c6"
      },
      "execution_count": 5,
      "outputs": [
        {
          "output_type": "stream",
          "name": "stderr",
          "text": [
            "WARNING:root:Downloading ['all', 'index']. Index is being stored in /usr/local/lib/python3.11/dist-packages/mirdata/datasets/indexes, and the rest of files in /root/mir_datasets/orchset\n",
            "WARNING:root:[all] downloading Orchset_dataset_0.zip\n",
            "311MB [05:38, 963kB/s]                           \n",
            "WARNING:root:[index] downloading orchset_index_1.0.json\n",
            "32.0kB [00:00, 50.6kB/s]                            \n"
          ]
        }
      ]
    },
    {
      "cell_type": "markdown",
      "source": [
        "By default, data is downloaded to\n",
        "```\n",
        "/root/mir_datasets/<dataset_name>\n",
        "```"
      ],
      "metadata": {
        "id": "nL_1kTOtSPVs"
      }
    },
    {
      "cell_type": "markdown",
      "source": [
        "### Data Storage"
      ],
      "metadata": {
        "id": "KuCkL6PAamjR"
      }
    },
    {
      "cell_type": "markdown",
      "source": [
        "There are several ways to keep the dataset without downloading everytime you restart the session.\n",
        "\n",
        "1. **Copying the downloaded dataset to Google Drive:** After downloading the dataset, you can copy it to your Google Drive for persistent storage and easy access across different Colab sessions."
      ],
      "metadata": {
        "id": "KyljWysLQZQL"
      }
    },
    {
      "cell_type": "code",
      "source": [
        "from google.colab import drive\n",
        "drive.mount('/content/drive')\n",
        "\n",
        "# Replace the <dataset_name> to name of the dataset you downloaded.\n",
        "!cp -r /root/mir_datasets/<dataset_name> /content/drive/MyDrive/<dataset_name>"
      ],
      "metadata": {
        "colab": {
          "base_uri": "https://localhost:8080/"
        },
        "id": "rxIX0BnUZPf3",
        "outputId": "19451e40-49a1-4a94-f0f8-1328e02f4d50"
      },
      "execution_count": 9,
      "outputs": [
        {
          "output_type": "stream",
          "name": "stdout",
          "text": [
            "Drive already mounted at /content/drive; to attempt to forcibly remount, call drive.mount(\"/content/drive\", force_remount=True).\n"
          ]
        }
      ]
    },
    {
      "cell_type": "markdown",
      "source": [
        "2. **Setting a custom download path when initializing the dataset:** You can specify a different download directory when initializing the dataset loader using the `data_home` parameter. This allows you to download the dataset directly to a desired location, such as a mounted Google Drive folder."
      ],
      "metadata": {
        "id": "V5KNiS_JROPK"
      }
    },
    {
      "cell_type": "code",
      "source": [
        "from google.colab import drive\n",
        "drive.mount('/content/drive')\n",
        "\n",
        "# Replace the <dataset_name> to name of the dataset you downloaded.\n",
        "import mirdata\n",
        "dataset = mirdata.initialize('<dataset_name>', data_home='/content/drive/MyDrive/<Folder_Name>')\n",
        "dataset.download() # Dataset will be downloaded to `data_home` directory."
      ],
      "metadata": {
        "id": "mu9jeG3VRRCz"
      },
      "execution_count": null,
      "outputs": []
    },
    {
      "cell_type": "markdown",
      "source": [
        "3. **Accessing a dataset downloaded outside of Google Colab:** If you have already downloaded a dataset locally, you can upload it to your Google Drive or directly to the Colab environment and then initialize the `mirdata` loader with the path to the dataset directory using the `data_home` parameter."
      ],
      "metadata": {
        "id": "Xem5AbIFRQas"
      }
    },
    {
      "cell_type": "markdown",
      "source": [
        "## Validate the dataset"
      ],
      "metadata": {
        "id": "Mxq1xuVBRRhc"
      }
    },
    {
      "cell_type": "markdown",
      "source": [
        "Using the method `validate()`, we can check if the files in the local version are the same than the available canonical version, and the files were downloaded correctly (none of them are corrupted)."
      ],
      "metadata": {
        "id": "oAzx_PmAeYLB"
      }
    },
    {
      "cell_type": "code",
      "source": [
        "dataset.validate()"
      ],
      "metadata": {
        "colab": {
          "base_uri": "https://localhost:8080/"
        },
        "id": "xJyLHc78MOj3",
        "outputId": "126f356a-38db-4ce4-f5e6-28732bd4e1c8"
      },
      "execution_count": 6,
      "outputs": [
        {
          "output_type": "stream",
          "name": "stderr",
          "text": [
            "100%|██████████| 1/1 [00:00<00:00, 2732.45it/s]\n",
            "100%|██████████| 64/64 [00:01<00:00, 47.20it/s]\n",
            "WARNING:root:Success: the dataset is complete and all files are valid.\n",
            "WARNING:root:--------------------\n"
          ]
        },
        {
          "output_type": "execute_result",
          "data": {
            "text/plain": [
              "({'metadata': {}, 'tracks': {}}, {'metadata': {}, 'tracks': {}})"
            ]
          },
          "metadata": {},
          "execution_count": 6
        }
      ]
    },
    {
      "cell_type": "markdown",
      "source": [
        "Now you are ready to use mirdata in Google Colab! You can explore more examples from the mirdata usage examples in the documentation to learn about different datasets and tasks, and then apply these techniques and insights to your own music information retrieval projects."
      ],
      "metadata": {
        "id": "O8PC1nLgbNZA"
      }
    }
  ]
}