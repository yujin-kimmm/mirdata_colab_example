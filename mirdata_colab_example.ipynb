{
  "nbformat": 4,
  "nbformat_minor": 0,
  "metadata": {
    "colab": {
      "provenance": [],
      "authorship_tag": "ABX9TyNiFOwMi8zvaIR77FLtnWQv",
      "include_colab_link": true
    },
    "kernelspec": {
      "name": "python3",
      "display_name": "Python 3"
    },
    "language_info": {
      "name": "python"
    }
  },
  "cells": [
    {
      "cell_type": "markdown",
      "metadata": {
        "id": "view-in-github",
        "colab_type": "text"
      },
      "source": [
        "<a href=\"https://colab.research.google.com/github/yujin-kimmm/mirdata_colab_example/blob/main/mirdata_colab_example.ipynb\" target=\"_parent\"><img src=\"https://colab.research.google.com/assets/colab-badge.svg\" alt=\"Open In Colab\"/></a>"
      ]
    },
    {
      "cell_type": "markdown",
      "metadata": {
        "id": "12266682"
      },
      "source": [
        "# **Welcome to the mirdata Colab Example!**\n",
        "\n",
        "This notebook provides a hands-on introduction to using the `mirdata` library in Google Colab. `mirdata` is a Python library designed to make it easy to load and work with common music information retrieval (MIR) datasets.\n",
        "\n",
        "In this notebook, you will learn how to:\n",
        "\n",
        "* Install `mirdata`\n",
        "* Load a dataset\n",
        "* Download the dataset\n",
        "* Storage options in Colab\n",
        "* Validate the dataset\n",
        "\n",
        "Let's get started!"
      ]
    },
    {
      "cell_type": "markdown",
      "source": [
        "## Getting Ready"
      ],
      "metadata": {
        "id": "bNte2R3YNTZL"
      }
    },
    {
      "cell_type": "markdown",
      "source": [
        "First, install `mirdata` package"
      ],
      "metadata": {
        "id": "wIEV5CXJKX2E"
      }
    },
    {
      "cell_type": "code",
      "source": [
        "!pip install mirdata"
      ],
      "metadata": {
        "collapsed": true,
        "id": "gfH833BIKTUl"
      },
      "execution_count": null,
      "outputs": []
    },
    {
      "cell_type": "markdown",
      "source": [
        "Next, import the `mirdata` package"
      ],
      "metadata": {
        "id": "3N1FpBi6NYWh"
      }
    },
    {
      "cell_type": "code",
      "source": [
        "import mirdata"
      ],
      "metadata": {
        "id": "MHj38awBKTZJ"
      },
      "execution_count": null,
      "outputs": []
    },
    {
      "cell_type": "markdown",
      "source": [
        "To check all available datasets in `mirdata`, you can print the list of the datasets"
      ],
      "metadata": {
        "id": "f1Old7XQNcHr"
      }
    },
    {
      "cell_type": "code",
      "source": [
        "print(mirdata.list_datasets())"
      ],
      "metadata": {
        "colab": {
          "base_uri": "https://localhost:8080/"
        },
        "id": "mzlfhZUYKxd-",
        "outputId": "f75e6048-f4bd-46cc-abdd-7a912ce29553"
      },
      "execution_count": null,
      "outputs": [
        {
          "output_type": "stream",
          "name": "stdout",
          "text": [
            "['acousticbrainz_genre', 'baf', 'ballroom', 'beatles', 'beatport_key', 'billboard', 'brid', 'candombe', 'cante100', 'cipi', 'compmusic_carnatic_rhythm', 'compmusic_carnatic_varnam', 'compmusic_hindustani_rhythm', 'compmusic_indian_tonic', 'compmusic_jingju_acappella', 'compmusic_otmm_makam', 'compmusic_raga', 'cuidado', 'da_tacos', 'dagstuhl_choirset', 'dali', 'egfxset', 'filosax', 'four_way_tabla', 'freesound_one_shot_percussive_sounds', 'giantsteps_key', 'giantsteps_tempo', 'good_sounds', 'groove_midi', 'gtzan_genre', 'guitarset', 'hainsworth', 'haydn_op20', 'idmt_smt_audio_effects', 'ikala', 'irmas', 'jtd', 'maestro', 'mdb_stem_synth', 'medley_solos_db', 'medleydb_melody', 'medleydb_pitch', 'mridangam_stroke', 'mtg_jamendo_autotagging_moodtheme', 'openmic2018', 'orchset', 'phenicx_anechoic', 'queen', 'rwc_classical', 'rwc_jazz', 'rwc_popular', 'salami', 'saraga_carnatic', 'saraga_hindustani', 'scms', 'simac', 'slakh', 'tinysol', 'tonality_classicaldb', 'tonas', 'vocadito']\n"
          ]
        }
      ]
    },
    {
      "cell_type": "markdown",
      "source": [
        "## Initialize a dataset\n",
        "\n",
        "To use a loader in `mirdata`, you should first initialize it. For this example, we will use `orchset` as an exmaple."
      ],
      "metadata": {
        "id": "wSD39xG4N3fw"
      }
    },
    {
      "cell_type": "code",
      "source": [
        "dataset = mirdata.initialize('orchset')"
      ],
      "metadata": {
        "id": "FnS-TwjhL762"
      },
      "execution_count": null,
      "outputs": []
    },
    {
      "cell_type": "markdown",
      "source": [
        "### Dataset versions\n",
        "\n",
        "Mirdata supports working with multiple dataset versions. To see all available versions of a specific dataset, run `mirdata.list_dataset_versions('orchset')`. Use version parameter if you wish to use a version other than the default one."
      ],
      "metadata": {
        "id": "oEKUvQ3ydtJ1"
      }
    },
    {
      "cell_type": "code",
      "source": [
        "# if you are willing to use a default version of the dataset, please comment out or pass this cell.\n",
        "\n",
        "# To see all available versions of a specific dataset:\n",
        "mirdata.list_dataset_versions('orchset')\n",
        "\n",
        "# Use 'version' parameter if you wish to use a version other than the default one.\n",
        "dataset = mirdata.initialize('orchset', data_home='/choose/where/data/live', version=\"1.0\") # replace the directory to your directory."
      ],
      "metadata": {
        "id": "_0IZI7b9dsw7"
      },
      "execution_count": null,
      "outputs": []
    },
    {
      "cell_type": "markdown",
      "source": [
        "## Download the dataset"
      ],
      "metadata": {
        "id": "hehw8OAtPoeJ"
      }
    },
    {
      "cell_type": "markdown",
      "source": [
        "`mirdata` datasets are downloaded to a default directory ``/root/sound_datasets/<Dataset_Name>`` in Colab. This directory is temporary and will be reset every time you restart your Google Colab Session."
      ],
      "metadata": {
        "id": "luY-_716Q7zo"
      }
    },
    {
      "cell_type": "code",
      "source": [
        "dataset.download()"
      ],
      "metadata": {
        "collapsed": true,
        "id": "YiRy17i_MNN4"
      },
      "execution_count": null,
      "outputs": []
    },
    {
      "cell_type": "markdown",
      "source": [
        "By default, data is downloaded to\n",
        "```\n",
        "/root/mir_datasets/<dataset_name>\n",
        "```"
      ],
      "metadata": {
        "id": "nL_1kTOtSPVs"
      }
    },
    {
      "cell_type": "markdown",
      "source": [
        "### Data Storage"
      ],
      "metadata": {
        "id": "KuCkL6PAamjR"
      }
    },
    {
      "cell_type": "markdown",
      "source": [
        "There are several ways to keep the dataset without downloading everytime you restart the session.\n",
        "\n",
        "1. **Copying the downloaded dataset to Google Drive:** After downloading the dataset, you can copy it to your Google Drive for persistent storage and easy access across different Colab sessions."
      ],
      "metadata": {
        "id": "KyljWysLQZQL"
      }
    },
    {
      "cell_type": "code",
      "source": [
        "from google.colab import drive\n",
        "drive.mount('/content/drive')\n",
        "\n",
        "# Replace the <dataset_name> to name of the dataset you downloaded.\n",
        "!cp -r /root/mir_datasets/<dataset_name> /content/drive/My Drive/<dataset_name>"
      ],
      "metadata": {
        "id": "rxIX0BnUZPf3"
      },
      "execution_count": null,
      "outputs": []
    },
    {
      "cell_type": "markdown",
      "source": [
        "2. **Setting a custom download path when initializing the dataset:** You can specify a different download directory when initializing the dataset loader using the `data_home` parameter. This allows you to download the dataset directly to a desired location, such as a mounted Google Drive folder."
      ],
      "metadata": {
        "id": "V5KNiS_JROPK"
      }
    },
    {
      "cell_type": "code",
      "source": [
        "from google.colab import drive\n",
        "drive.mount('/content/drive')\n",
        "\n",
        "import mirdata\n",
        "\n",
        "# Replace the <dataset_name> to name of the dataset you downloaded.\n",
        "dataset = mirdata.initialize('<dataset_name>', data_home='/content/drive/My Drive/<Folder_Name>')\n",
        "dataset.download() # Dataset will be downloaded to `data_home` directory."
      ],
      "metadata": {
        "id": "mu9jeG3VRRCz"
      },
      "execution_count": null,
      "outputs": []
    },
    {
      "cell_type": "markdown",
      "source": [
        "3. **Accessing a dataset downloaded outside of Google Colab:** If you have already downloaded a dataset locally, you can upload it to your Google Drive and then initialize the `mirdata` loader with the path to the dataset directory using the `data_home` parameter."
      ],
      "metadata": {
        "id": "Xem5AbIFRQas"
      }
    },
    {
      "cell_type": "code",
      "source": [
        "from google.drive import drive\n",
        "drive.mount('/content/drive')\n",
        "\n",
        "import mirdata\n",
        "\n",
        "# Replace the <dataset_name> to name of the dataset you downloaded.\n",
        "data_path = '/content/drive/My Drive/<dataset_name>'\n",
        "dataset = soundata.initialize('<dataset_name>', data_home=data_path)"
      ],
      "metadata": {
        "id": "zjVubW3dmDBh"
      },
      "execution_count": null,
      "outputs": []
    },
    {
      "cell_type": "markdown",
      "source": [
        "## Validate the dataset"
      ],
      "metadata": {
        "id": "Mxq1xuVBRRhc"
      }
    },
    {
      "cell_type": "markdown",
      "source": [
        "Using the method `validate()`, we can check if the files in the local version are the same than the available canonical version, and the files were downloaded correctly (none of them are corrupted)."
      ],
      "metadata": {
        "id": "oAzx_PmAeYLB"
      }
    },
    {
      "cell_type": "code",
      "source": [
        "dataset.validate()"
      ],
      "metadata": {
        "colab": {
          "base_uri": "https://localhost:8080/"
        },
        "id": "xJyLHc78MOj3",
        "outputId": "126f356a-38db-4ce4-f5e6-28732bd4e1c8"
      },
      "execution_count": null,
      "outputs": [
        {
          "output_type": "stream",
          "name": "stderr",
          "text": [
            "100%|██████████| 1/1 [00:00<00:00, 2732.45it/s]\n",
            "100%|██████████| 64/64 [00:01<00:00, 47.20it/s]\n",
            "WARNING:root:Success: the dataset is complete and all files are valid.\n",
            "WARNING:root:--------------------\n"
          ]
        },
        {
          "output_type": "execute_result",
          "data": {
            "text/plain": [
              "({'metadata': {}, 'tracks': {}}, {'metadata': {}, 'tracks': {}})"
            ]
          },
          "metadata": {},
          "execution_count": 6
        }
      ]
    },
    {
      "cell_type": "markdown",
      "source": [
        "Now you are ready to use mirdata in Google Colab! You can explore more examples from the mirdata usage examples in the documentation to learn about different datasets and tasks, and then apply these techniques and insights to your own music information retrieval projects."
      ],
      "metadata": {
        "id": "O8PC1nLgbNZA"
      }
    }
  ]
}